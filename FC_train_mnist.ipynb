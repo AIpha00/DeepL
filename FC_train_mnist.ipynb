{
 "cells": [
  {
   "cell_type": "code",
   "execution_count": 8,
   "metadata": {},
   "outputs": [
    {
     "name": "stdout",
     "output_type": "stream",
     "text": [
      "Extracting ./mnist/train-images-idx3-ubyte.gz\n",
      "Extracting ./mnist/train-labels-idx1-ubyte.gz\n",
      "WARNING:tensorflow:From /Users/lvsongke/opt/anaconda3/lib/python3.7/site-packages/tensorflow_core/contrib/learn/python/learn/datasets/mnist.py:110: dense_to_one_hot (from tensorflow.contrib.learn.python.learn.datasets.mnist) is deprecated and will be removed in a future version.\n",
      "Instructions for updating:\n",
      "Please use tf.one_hot on tensors.\n",
      "Extracting ./mnist/t10k-images-idx3-ubyte.gz\n",
      "Extracting ./mnist/t10k-labels-idx1-ubyte.gz\n"
     ]
    }
   ],
   "source": [
    "import tensorflow as tf\n",
    "from tensorflow.examples.tutorials.mnist import input_data\n",
    "\n",
    "mnist = input_data.read_data_sets('./mnist/', one_hot=True)\n",
    "\n"
   ]
  },
  {
   "cell_type": "code",
   "execution_count": 35,
   "metadata": {},
   "outputs": [],
   "source": [
    "learning_rate = 0.01\n",
    "max_steps = 3000\n",
    "\n",
    "\n",
    "x = tf.placeholder(tf.float32, [None, 784])\n",
    "y_ = tf.placeholder(tf.float32, [None, 10])\n",
    "\n",
    "weight = tf.Variable(tf.truncated_normal([784, 10], stddev=0.1))\n",
    "bias = tf.Variable(tf.constant(0.1, shape=[10]))\n",
    "\n",
    "y = tf.matmul(x, weight) + bias\n",
    "\n",
    "cross_entropy = tf.nn.sparse_softmax_cross_entropy_with_logits(logits=y, labels=tf.argmax(y_, 1))\n",
    "\n",
    "loss = tf.reduce_mean(cross_entropy)\n",
    "\n",
    "train_op = tf.train.GradientDescentOptimizer(learning_rate).minimize(cross_entropy)\n",
    "\n",
    "correct_prediction = tf.equal(tf.argmax(y, 1), tf.argmax(y_, 1))\n",
    "\n",
    "accuracy = tf.reduce_mean(tf.cast(correct_prediction, tf.float32))\n"
   ]
  },
  {
   "cell_type": "code",
   "execution_count": 36,
   "metadata": {},
   "outputs": [
    {
     "name": "stdout",
     "output_type": "stream",
     "text": [
      "训练次数0 验证数据的准确率34.82% 损失loss: 2.55\n",
      "训练次数1000 验证数据的准确率91.18% 损失loss: 0.27\n",
      "训练次数2000 验证数据的准确率91.64% 损失loss: 0.36\n",
      "训练次数3000 验证数据的准确率91.80% 损失loss: 0.38\n",
      "训练次数3000 验证数据的准确率91.80%\n"
     ]
    }
   ],
   "source": [
    "with tf.Session() as sess:\n",
    "    tf.global_variables_initializer().run()\n",
    "    \n",
    "    ##准备验证数据\n",
    "    validate_feed = {x: mnist.validation.images, y_: mnist.validation.labels}\n",
    "    \n",
    "    ##测试数据\n",
    "    test_feed = {x: mnist.test.images, y_:mnist.test.labels}\n",
    "    \n",
    "    for i in range(max_steps + 1):\n",
    "        \n",
    "        ##开始训练\n",
    "        xs, ys = mnist.train.next_batch(batch_size=128)\n",
    "        _, loss_value = sess.run([train_op, loss], feed_dict={x: xs, y_:ys})\n",
    "        \n",
    "        if i % 1000 == 0:\n",
    "            ##验证一次训练数据\n",
    "            validate_accuracy = sess.run(accuracy, feed_dict=validate_feed)\n",
    "            print('训练次数{} 验证数据的准确率{:.2f}% 损失loss: {:.2f}'.format(i, validate_accuracy * 100, loss_value))\n",
    "    test_accuracy = sess.run(accuracy, feed_dict=test_feed)\n",
    "    print('训练次数{} 验证数据的准确率{:.2f}%'.format(i, test_accuracy * 100))"
   ]
  },
  {
   "cell_type": "code",
   "execution_count": 70,
   "metadata": {},
   "outputs": [],
   "source": [
    "def hidden_layer(inputs):\n",
    "    with tf.name_scope('hidden1'):\n",
    "        layer1 = tf.layers.dense(inputs, 512, activation=tf.nn.relu)\n",
    "        \n",
    "#         layer2 = tf.layers.dense(layer1, 256, activation=tf.tanh)\n",
    "        \n",
    "#         layer3 = tf.layers.dense(layer2, 256, activation=tf.tanh)\n",
    "        \n",
    "        dropout_layer = tf.layers.dropout(layer1, rate=0.8)\n",
    "        \n",
    "        y = tf.layers.dense(layer1, 10, activation=None)\n",
    "    \n",
    "        return y"
   ]
  },
  {
   "cell_type": "code",
   "execution_count": 71,
   "metadata": {},
   "outputs": [
    {
     "name": "stdout",
     "output_type": "stream",
     "text": [
      "<class 'tensorflow.python.framework.ops.Tensor'>\n"
     ]
    }
   ],
   "source": [
    "learning_rate = 0.01\n",
    "max_steps = 10000\n",
    "\n",
    "\n",
    "x = tf.placeholder(tf.float32, [None, 784])\n",
    "y_ = tf.placeholder(tf.float32, [None, 10])\n",
    "\n",
    "y = hidden_layer(x)\n",
    "\n",
    "cross_entropy = tf.nn.softmax_cross_entropy_with_logits_v2(logits=y, labels=y_)\n",
    "\n",
    "loss = tf.reduce_mean(cross_entropy)\n",
    "\n",
    "train_op = tf.train.GradientDescentOptimizer(learning_rate).minimize(cross_entropy)\n",
    "\n",
    "check_result = tf.equal(tf.argmax(y, 1), tf.argmax(y_, 1))\n",
    "\n",
    "print(type(check_result))\n",
    "accuracy = tf.reduce_mean(tf.cast(check_result, tf.float32))\n"
   ]
  },
  {
   "cell_type": "code",
   "execution_count": 72,
   "metadata": {},
   "outputs": [
    {
     "name": "stdout",
     "output_type": "stream",
     "text": [
      "训练次数0 验证数据的准确率36.50% 损失loss: 2.34\n",
      "训练次数1000 验证数据的准确率97.02% 损失loss: 0.11\n",
      "训练次数2000 验证数据的准确率97.98% 损失loss: 0.04\n",
      "训练次数3000 验证数据的准确率98.38% 损失loss: 0.01\n",
      "训练次数4000 验证数据的准确率98.26% 损失loss: 0.01\n",
      "训练次数5000 验证数据的准确率98.42% 损失loss: 0.00\n",
      "训练次数6000 验证数据的准确率98.50% 损失loss: 0.00\n",
      "训练次数7000 验证数据的准确率98.50% 损失loss: 0.00\n",
      "训练次数8000 验证数据的准确率98.50% 损失loss: 0.00\n",
      "训练次数9000 验证数据的准确率98.48% 损失loss: 0.00\n",
      "训练次数10000 验证数据的准确率98.46% 损失loss: 0.00\n",
      "训练次数10000 验证数据的准确率98.22%\n"
     ]
    }
   ],
   "source": [
    "with tf.Session() as sess:\n",
    "    tf.global_variables_initializer().run()\n",
    "    \n",
    "    ##准备验证数据\n",
    "    validate_feed = {x: mnist.validation.images, y_: mnist.validation.labels}\n",
    "    \n",
    "    ##测试数据\n",
    "    test_feed = {x: mnist.test.images, y_:mnist.test.labels}\n",
    "    \n",
    "    for i in range(max_steps + 1):\n",
    "        \n",
    "        ##开始训练\n",
    "        xs, ys = mnist.train.next_batch(batch_size=128)\n",
    "        _, loss_value = sess.run([train_op, loss], feed_dict={x: xs, y_:ys})\n",
    "        \n",
    "        if i % 1000 == 0:\n",
    "            ##验证一次训练数据\n",
    "            validate_accuracy = sess.run(accuracy, feed_dict=validate_feed)\n",
    "            print('训练次数{} 验证数据的准确率{:.2f}% 损失loss: {:.2f}'.format(i, validate_accuracy * 100, loss_value))\n",
    "    test_accuracy = sess.run(accuracy, feed_dict=test_feed)\n",
    "    print('训练次数{} 验证数据的准确率{:.2f}%'.format(i, test_accuracy * 100))"
   ]
  },
  {
   "cell_type": "code",
   "execution_count": null,
   "metadata": {},
   "outputs": [],
   "source": []
  }
 ],
 "metadata": {
  "kernelspec": {
   "display_name": "Python 3",
   "language": "python",
   "name": "python3"
  },
  "language_info": {
   "codemirror_mode": {
    "name": "ipython",
    "version": 3
   },
   "file_extension": ".py",
   "mimetype": "text/x-python",
   "name": "python",
   "nbconvert_exporter": "python",
   "pygments_lexer": "ipython3",
   "version": "3.7.6"
  }
 },
 "nbformat": 4,
 "nbformat_minor": 4
}
