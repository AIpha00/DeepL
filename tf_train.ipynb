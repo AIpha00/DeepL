{
 "cells": [
  {
   "cell_type": "code",
   "execution_count": 1,
   "metadata": {},
   "outputs": [],
   "source": [
    "import pandas as pd\n",
    "import numpy as np\n",
    "import tensorflow as tf\n",
    "import warnings\n",
    "warnings.filterwarnings('ignore')"
   ]
  },
  {
   "cell_type": "code",
   "execution_count": 2,
   "metadata": {},
   "outputs": [
    {
     "name": "stdout",
     "output_type": "stream",
     "text": [
      "WARNING:tensorflow:From <ipython-input-2-ef7c8a9a5eda>:2: read_data_sets (from tensorflow.contrib.learn.python.learn.datasets.mnist) is deprecated and will be removed in a future version.\n",
      "Instructions for updating:\n",
      "Please use alternatives such as official/mnist/dataset.py from tensorflow/models.\n",
      "WARNING:tensorflow:From /Users/lvsongke/opt/anaconda3/lib/python3.7/site-packages/tensorflow_core/contrib/learn/python/learn/datasets/mnist.py:260: maybe_download (from tensorflow.contrib.learn.python.learn.datasets.base) is deprecated and will be removed in a future version.\n",
      "Instructions for updating:\n",
      "Please write your own downloading logic.\n",
      "WARNING:tensorflow:From /Users/lvsongke/opt/anaconda3/lib/python3.7/site-packages/tensorflow_core/contrib/learn/python/learn/datasets/mnist.py:262: extract_images (from tensorflow.contrib.learn.python.learn.datasets.mnist) is deprecated and will be removed in a future version.\n",
      "Instructions for updating:\n",
      "Please use tf.data to implement this functionality.\n",
      "Extracting ./mnist/train-images-idx3-ubyte.gz\n",
      "WARNING:tensorflow:From /Users/lvsongke/opt/anaconda3/lib/python3.7/site-packages/tensorflow_core/contrib/learn/python/learn/datasets/mnist.py:267: extract_labels (from tensorflow.contrib.learn.python.learn.datasets.mnist) is deprecated and will be removed in a future version.\n",
      "Instructions for updating:\n",
      "Please use tf.data to implement this functionality.\n",
      "Extracting ./mnist/train-labels-idx1-ubyte.gz\n",
      "WARNING:tensorflow:From /Users/lvsongke/opt/anaconda3/lib/python3.7/site-packages/tensorflow_core/contrib/learn/python/learn/datasets/mnist.py:110: dense_to_one_hot (from tensorflow.contrib.learn.python.learn.datasets.mnist) is deprecated and will be removed in a future version.\n",
      "Instructions for updating:\n",
      "Please use tf.one_hot on tensors.\n",
      "Extracting ./mnist/t10k-images-idx3-ubyte.gz\n",
      "Extracting ./mnist/t10k-labels-idx1-ubyte.gz\n",
      "WARNING:tensorflow:From /Users/lvsongke/opt/anaconda3/lib/python3.7/site-packages/tensorflow_core/contrib/learn/python/learn/datasets/mnist.py:290: DataSet.__init__ (from tensorflow.contrib.learn.python.learn.datasets.mnist) is deprecated and will be removed in a future version.\n",
      "Instructions for updating:\n",
      "Please use alternatives such as official/mnist/dataset.py from tensorflow/models.\n"
     ]
    }
   ],
   "source": [
    "from tensorflow.examples.tutorials.mnist import input_data\n",
    "mnist = input_data.read_data_sets(\"./mnist/\", one_hot=True)\n",
    "\n",
    "##定义超参数\n",
    "batch_size = 128\n",
    "learning_rate = 0.8\n",
    "learning_rate_decay = 0.999\n",
    "max_steps = 30000\n",
    "\n",
    "##定义存储训练轮数的变量，在使用tensorflow训练神经网络时，一般会将代表训练轮数的变量设置为不可训练的\n",
    "training_step = tf.Variable(0, trainable=False)"
   ]
  },
  {
   "cell_type": "code",
   "execution_count": 3,
   "metadata": {},
   "outputs": [],
   "source": [
    "##定义完成后，即可搭建神经网络前馈学习过程\n",
    "def hidden_layer(input_tensor, weights1, biases1, weights2, biases2, layer_name):\n",
    "    layer1 = tf.nn.relu(tf.matmul(input_tensor,weights1) + biases1)\n",
    "    return tf.matmul(layer1, weights2) + biases2\n",
    "\n",
    "x = tf.placeholder(tf.float32, [None, 784], name='x-input')\n",
    "y_ = tf.placeholder(tf.float32, [None, 10], name='y-input')\n",
    "\n",
    "##生层隐藏层参数，其中weights包含784x500个参数\n",
    "weights1 = tf.Variable(tf.truncated_normal([784, 500], stddev=0.1))\n",
    "biases1 = tf.Variable(tf.constant(0.1, shape=[500]))\n",
    "\n",
    "##生成输出层参数，其中weights包含500x10个参数\n",
    "\n",
    "weights2 = tf.Variable(tf.truncated_normal([500, 10], stddev=0.1))\n",
    "biases2 = tf.Variable(tf.constant(0.1, shape=[10]))\n",
    "\n",
    "y = hidden_layer(x, weights1, biases1, weights2, biases2, 'y')"
   ]
  },
  {
   "cell_type": "code",
   "execution_count": 4,
   "metadata": {},
   "outputs": [
    {
     "name": "stdout",
     "output_type": "stream",
     "text": [
      "WARNING:tensorflow:From /Users/lvsongke/opt/anaconda3/lib/python3.7/site-packages/tensorflow_core/python/training/moving_averages.py:433: Variable.initialized_value (from tensorflow.python.ops.variables) is deprecated and will be removed in a future version.\n",
      "Instructions for updating:\n",
      "Use Variable.read_value. Variables in 2.X are initialized automatically both in eager and graph (inside tf.defun) contexts.\n",
      "Tensor(\"add_3:0\", shape=(?, 10), dtype=float32)\n"
     ]
    }
   ],
   "source": [
    "##定义滑动平均值\n",
    "averages_class = tf.train.ExponentialMovingAverage(0.99, training_step)\n",
    "\n",
    "##定义一个更新变量滑动平均值的操作需要向滑动平均累的apply提供一个参数列表\n",
    "##train_variable函数返回计算图中所有需要训练的参数\n",
    "averages_op = averages_class.apply(tf.trainable_variables())\n",
    "\n",
    "##再次计算经过神经网络前向传播后得到的y值，这里使用了滑动平均，但要牢记滑动平均值只是一个影子变量\n",
    "average_y = hidden_layer(x, averages_class.average(weights1), averages_class.average(biases1), averages_class.average(weights2), averages_class.average(biases2), 'average_y')\n",
    "\n",
    "print(average_y)"
   ]
  },
  {
   "cell_type": "code",
   "execution_count": 7,
   "metadata": {},
   "outputs": [
    {
     "name": "stdout",
     "output_type": "stream",
     "text": [
      "WARNING:tensorflow:\n",
      "The TensorFlow contrib module will not be included in TensorFlow 2.0.\n",
      "For more information, please see:\n",
      "  * https://github.com/tensorflow/community/blob/master/rfcs/20180907-contrib-sunset.md\n",
      "  * https://github.com/tensorflow/addons\n",
      "  * https://github.com/tensorflow/io (for I/O related ops)\n",
      "If you depend on functionality not listed there, please file an issue.\n",
      "\n"
     ]
    }
   ],
   "source": [
    "###定义损失函数\n",
    "cross_entropy = tf.nn.sparse_softmax_cross_entropy_with_logits(logits=y, labels=tf.argmax(y_, 1))\n",
    "\n",
    "##定义正则化regularizer\n",
    "regularizer = tf.contrib.layers.l2_regularizer(0.0001)\n",
    "\n",
    "regularization = regularizer(weights1) + regularizer(weights2)  ## 计算模型的正则化损失\n",
    "\n",
    "loss = tf.reduce_mean(cross_entropy) + regularization ##总损失\n",
    "\n",
    "##指数衰减法设置学习率，staircase参数控制是否连续衰减\n",
    "learning_rate = tf.train.exponential_decay(learning_rate, training_step, mnist.train.num_examples/batch_size, learning_rate_decay)\n",
    "\n",
    "##定义优化器\n",
    "train_step = tf.train.GradientDescentOptimizer(learning_rate).minimize(loss, global_step=training_step)\n",
    "\n",
    "\n",
    "##通过control_dependencies()来完成对网络中的参数以及参数的平均值进行更新\n",
    "with tf.control_dependencies([train_step, averages_op]):\n",
    "    train_op = tf.no_op(name='train')"
   ]
  },
  {
   "cell_type": "code",
   "execution_count": 8,
   "metadata": {},
   "outputs": [
    {
     "name": "stdout",
     "output_type": "stream",
     "text": [
      "Tensor(\"y-input:0\", shape=(?, 10), dtype=float32)\n"
     ]
    }
   ],
   "source": [
    "##检查使用了滑动平均模型的神经网络前向传播结果是否正确\n",
    "crorent_prediction = tf.equal(tf.argmax(average_y, 1), tf.argmax(y_, 1))\n",
    "print(y_)\n",
    "accuracy = tf.reduce_mean(tf.cast(crorent_prediction, tf.float32))  ###转换类型"
   ]
  },
  {
   "cell_type": "code",
   "execution_count": 14,
   "metadata": {},
   "outputs": [
    {
     "name": "stdout",
     "output_type": "stream",
     "text": [
      "[4 0 3 ... 5 8 6]\n",
      "after 30000 training step(s), validation accuracy using average model is 10.769999772310257%\n"
     ]
    }
   ],
   "source": [
    "##训练\n",
    "with tf.Session() as sess:\n",
    "    tf.global_variables_initializer().run()\n",
    "    \n",
    "    ##准备验证数据\n",
    "    validate_feed = {x: mnist.validation.images, y_:mnist.validation.labels}\n",
    "    \n",
    "    ##准备测试数据\n",
    "    test_feed = {x: mnist.test.images, y_:mnist.test.labels}\n",
    "    \n",
    "#     for i in range(2000 + 1):\n",
    "#         xs, ys = mnist.train.next_batch(batch_size=batch_size)\n",
    "#         print(ys.shape)\n",
    "# #         ys = ys.reshape([-1, 10])\n",
    "#         _, loss_value = sess.run([train_op, loss], feed_dict={x:xs, y_:ys})\n",
    "#         if i % 1000:\n",
    "#             ##计算滑动平均模型在验证数据上的结果\n",
    "#             validate_accuracy = sess.run(accuracy, feed_dict=validate_feed)\n",
    "            \n",
    "#             print(\"after {} training step(s), validation accuracy using average model is {}% loss={}\".format(i, round(validate_accuracy * 100), loss_value))\n",
    "#         ##产生训练数据\n",
    "        \n",
    "\n",
    "    test_accuracy = sess.run(accuracy, feed_dict=test_feed)\n",
    "    pred_y = sess.run(tf.argmax(average_y, 1), feed_dict=test_feed)\n",
    "    print(pred_y)\n",
    "    print(\"after {} training step(s), validation accuracy using average model is {}%\".format(max_steps, test_accuracy * 100))\n"
   ]
  },
  {
   "cell_type": "code",
   "execution_count": 15,
   "metadata": {},
   "outputs": [
    {
     "data": {
      "text/plain": [
       "(10000,)"
      ]
     },
     "execution_count": 15,
     "metadata": {},
     "output_type": "execute_result"
    }
   ],
   "source": [
    "pred_y.shape"
   ]
  },
  {
   "cell_type": "code",
   "execution_count": null,
   "metadata": {},
   "outputs": [],
   "source": []
  }
 ],
 "metadata": {
  "kernelspec": {
   "display_name": "Python 3",
   "language": "python",
   "name": "python3"
  },
  "language_info": {
   "codemirror_mode": {
    "name": "ipython",
    "version": 3
   },
   "file_extension": ".py",
   "mimetype": "text/x-python",
   "name": "python",
   "nbconvert_exporter": "python",
   "pygments_lexer": "ipython3",
   "version": "3.7.6"
  }
 },
 "nbformat": 4,
 "nbformat_minor": 4
}
